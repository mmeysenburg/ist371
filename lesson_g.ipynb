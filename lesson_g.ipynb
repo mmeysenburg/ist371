{
  "nbformat": 4,
  "nbformat_minor": 0,
  "metadata": {
    "colab": {
      "name": "lesson_g.ipynb",
      "provenance": [],
      "collapsed_sections": [],
      "toc_visible": true
    },
    "kernelspec": {
      "name": "python3",
      "display_name": "Python 3"
    }
  },
  "cells": [
    {
      "cell_type": "markdown",
      "metadata": {
        "id": "ip_pbaa8kDWj"
      },
      "source": [
        "#Thresholding\r\n",
        "\r\n",
        "In this episode, we will learn how to use skimage functions to apply thresholding to an image. Thresholding is a type of *image segmentation*, where we change the pixels of an image to make the image easier to analyze. In thresholding, we convert an image from color or grayscale into a *binary image*, i.e., one that is simply black and white. Most frequently, we use thresholding as a way to select areas of interest of an image, while ignoring the parts we are not concerned with. We have already done some simple thresholding, in the \"Manipulating pixels\" section of the Skimage Images episode. In that case, we used a simple NumPy array manipulation to separate the pixels belonging to the root system of a plant from the black background. In this episode, we will learn how to use skimage functions to perform thresholding. Then, we will use the masks returned by these functions to select the parts of an image we are interested in."
      ]
    },
    {
      "cell_type": "markdown",
      "metadata": {
        "id": "sk8vPYLVkwbr"
      },
      "source": [
        "##Simple thresholding\r\n",
        "\r\n",
        "Consider this image, with a series of crudely cut shapes set against a white background. The black outline around the image is not part of the image.\r\n",
        "\r\n",
        "<img src=\"https://datacarpentry.org/image-processing/fig/06-junk-before.jpg\" alt=\"paper shapes\" style=\"float: left; margin-right:10px;\"/>\r\n",
        "\r\n",
        "Now suppose we want to select only the shapes from the image. In other words, we want to leave the pixels belonging to the shapes \"on,\" while turning the rest of the pixels \"off,\" by setting their color channel values to zeros. The `skimage` library has several different methods of thresholding. We will start with the simplest version, which involves an important step of human input. Specifically, in this simple, *fixed-level thresholding*, we have to provide a threshold value, `t`.\r\n",
        "\r\n",
        "The process works like this. First, we will load the original image, convert it to grayscale, and blur it with one of the methods from the Blurring episode. Then, we will use the `>` operator to apply the threshold `t`, a number in the closed range $\\left[0.0, 1.0\\right]$. Pixels with color values on one side of `t` will be turned \"on,\" while pixels with color values on the other side will be turned \"off.\" In order to use this function, we have to determine a good value for `t`. How might we do that? Well, one way is to look at a grayscale histogram of the image. Here is the histogram produced by the code from the Creating Histograms episode, if we run it on the colored shapes image shown above.\r\n",
        "\r\n",
        "<img src=\"https://datacarpentry.org/image-processing/fig/06-junk-histogram.png\" alt=\"paper shapes histogram\" style=\"float: left; margin-right:10px;\"/>\r\n",
        "\r\n",
        "Since the image has a white background, most of the pixels in the image are white. This corresponds nicely to what we see in the histogram: there is a spike near the value of 1.0. If we want to select the shapes and not the background, we want to turn off the white background pixels, while leaving the pixels for the shapes turned on. So, we should choose a value of `t` somewhere before the large peak and turn pixels above that value \"off\".\r\n",
        "\r\n",
        "Here are the first few lines of Python code to apply simple thresholding to the image, to accomplish this task."
      ]
    },
    {
      "cell_type": "code",
      "metadata": {
        "id": "4wQj4pe6j94c"
      },
      "source": [
        "# one-time imports and configuration\r\n",
        "import numpy as np\r\n",
        "import skimage.color\r\n",
        "import skimage.filters\r\n",
        "import skimage.io\r\n",
        "\r\n",
        "import matplotlib as mpl\r\n",
        "mpl.rcParams['figure.dpi'] = 150\r\n",
        "\r\n",
        "from matplotlib import pyplot as plt"
      ],
      "execution_count": null,
      "outputs": []
    },
    {
      "cell_type": "code",
      "metadata": {
        "id": "hMPUysSil-te"
      },
      "source": [
        "# values for blurring and threshold\r\n",
        "k = 2\r\n",
        "t = 0.8\r\n",
        "\r\n",
        "# read and display original image\r\n",
        "image = skimage.io.imread('https://i.imgur.com/c1Y4NyB.jpg')\r\n",
        "skimage.io.imshow(image)\r\n",
        "plt.show()"
      ],
      "execution_count": null,
      "outputs": []
    },
    {
      "cell_type": "code",
      "metadata": {
        "id": "wwSGJgCQmcJB"
      },
      "source": [
        "# grayscale and blur before thresholding\r\n",
        "blur = skimage.color.rgb2gray(image)\r\n",
        "blur = skimage.filters.gaussian(blur, sigma=k)"
      ],
      "execution_count": null,
      "outputs": []
    },
    {
      "cell_type": "markdown",
      "metadata": {
        "id": "ce4AfDChm26d"
      },
      "source": [
        "The fixed-level thresholding is performed using `numpy` comparison operators.\r\n",
        "\r\n",
        "Here, we want to turn \"on\" all pixels which have values smaller than the threshold, so we use the less-than operator `<` to compare the blurred image, `blur`, to the threshold `t`. The operator returns a binary image, that we capture in the variable `mask`. It has only one channel, and each of its values is either 0 or 1. \r\n",
        "\r\n",
        "After executing the code cell below, you will see the binary image created by the thresholding operation. The program used parameters of `sigma = 2` and `t = 0.8` to produce this image. You can see that the areas where the shapes were in the original area are now white, while the rest of the mask image is black."
      ]
    },
    {
      "cell_type": "code",
      "metadata": {
        "id": "MBSwCxytm2dv"
      },
      "source": [
        "# perform fixed thresholding\r\n",
        "mask = blur < t\r\n",
        "\r\n",
        "# display the mask\r\n",
        "skimage.io.imshow(mask)\r\n",
        "plt.show()"
      ],
      "execution_count": null,
      "outputs": []
    },
    {
      "cell_type": "markdown",
      "metadata": {
        "id": "kPhGasDhnqYn"
      },
      "source": [
        "We can now apply the mask to the original colored image as we learned in the Drawing and Bitwise Operations episode. We should be left with only the colored shapes from the original."
      ]
    },
    {
      "cell_type": "code",
      "metadata": {
        "id": "yX3-EuDXnn8q"
      },
      "source": [
        "# use the mask to select the \"interesting\" parts of the image\r\n",
        "sel = np.zeros_like(image)\r\n",
        "sel[mask] = image[mask]\r\n",
        "\r\n",
        "# display the result\r\n",
        "skimage.io.imshow(sel)\r\n",
        "plt.show()"
      ],
      "execution_count": null,
      "outputs": []
    },
    {
      "cell_type": "markdown",
      "metadata": {
        "id": "1UMHle7boHY2"
      },
      "source": [
        "---\r\n",
        "> **Practice with simple thresholding**\r\n",
        "> \r\n",
        "> Suppose we want to use simple thresholding to select only the colored \r\n",
        "> shapes from this image, found at <a href=\"https://i.imgur.com/dPgHUFQ.jpg\">https://i.imgur.com/dPgHUFQ.jpg</a>:\r\n",
        "> \r\n",
        "> <img src=\"https://datacarpentry.org/image-processing/fig/06-more-junk.jpg\" alt=\"more shapes\" style=\"float: left; margin-right:10px;\"/>\r\n",
        "> \r\n",
        "> First, use techniques from the histogram lesson (Lesson D) \r\n",
        "> to examine the grayscale histogram of the image. Determine a good \r\n",
        "> candidate for the threshold value `t`.\r\n",
        "> \r\n",
        "> Now, use code like that shown above to turn the pixels *above* the \r\n",
        "> threshold value `t` off. Then, using the resulting mask, produce an\r\n",
        "> image with only the colored shapes on a pure black background. There\r\n",
        "> is no need to display all of the intermediate images; only show the\r\n",
        "> final result.\r\n",
        "---"
      ]
    },
    {
      "cell_type": "code",
      "metadata": {
        "id": "UaOxlyGIn_-e"
      },
      "source": [
        "# TODO: write your code here\r\n",
        "\r\n"
      ],
      "execution_count": null,
      "outputs": []
    },
    {
      "cell_type": "markdown",
      "metadata": {
        "id": "dz5EzADYqmqP"
      },
      "source": [
        "##Adaptive thresholding\r\n",
        "\r\n",
        "There are also `skimage` methods to perform *adaptive thresholding*. The chief advantage of adaptive thresholding is that the value of the threshold, `t`, is determined automatically for us. One such method, *Otsu's method*, is particularly useful for situations where the grayscale histogram of an image has two peaks. Consider this maize root system image, which we have seen before in a previous lesson:\r\n",
        "\r\n",
        "<img src=\"https://datacarpentry.org/image-processing/fig/06-roots-original.jpg\" alt=\"maize roots\" style=\"float: left; margin-right:10px;\"/>\r\n",
        "\r\n",
        "Now, look at the grayscale histogram of this image, as produced by our histogram code from the Creating Histograms episode.\r\n",
        "\r\n",
        "<img src=\"https://datacarpentry.org/image-processing/fig/06-roots-histogram.png\" alt=\"maize root histogram\" style=\"float: left; margin-right:10px;\"/>\r\n",
        "\r\n",
        "The histogram has a significant peak around 0.2, and a second, albeit smaller peak very near 1.0. Thus, this image is a good candidate for thresholding with Otsu’s method. The mathematical details of how this work are complicated (see the <a href=\"https://scikit-image.org/docs/dev/auto_examples/segmentation/plot_thresholding.html\">`skimage` documentation</a> if you are interested), but the outcome is that Otsu's method finds a threshold value between the two peaks of a grayscale histogram.\r\n",
        "\r\n",
        "The `skimage.filters.threshold_otsu()` function can be used to determine the adaptive threshold via Otsu's method. Then numpy comparison operators can be used to apply it as before.\r\n",
        "\r\n",
        "To start off demonstrating Otsu's method, we first read and display our target image."
      ]
    },
    {
      "cell_type": "code",
      "metadata": {
        "id": "1DlBTPh8qOUq"
      },
      "source": [
        "# sigma blur value\r\n",
        "k = 1.0\r\n",
        "\r\n",
        "# read and display original image\r\n",
        "image = skimage.io.imread('https://i.imgur.com/y2Mxtzy.jpg')\r\n",
        "skimage.io.imshow(image)\r\n",
        "plt.show()"
      ],
      "execution_count": null,
      "outputs": []
    },
    {
      "cell_type": "code",
      "metadata": {
        "id": "pngbUKjRsAp0"
      },
      "source": [
        "# grayscale and blur\r\n",
        "blur = skimage.color.rgb2gray(image)\r\n",
        "blur = skimage.filters.gaussian(blur, sigma=k)\r\n",
        "\r\n",
        "# determine threshold value\r\n",
        "t = skimage.filters.threshold_otsu(blur)\r\n",
        "\r\n",
        "# create mask\r\n",
        "mask = blur > t"
      ],
      "execution_count": null,
      "outputs": []
    },
    {
      "cell_type": "markdown",
      "metadata": {
        "id": "Q8ZtwZHEsro4"
      },
      "source": [
        "The function `skimage.filters.threshold_otsu()` uses Otsu's method to automatically determine the threshold value based on its inputs' grayscale histogram and returns it. Then, we use the comparison operator `>` for binary thesholding. As we have seen before, pixels above the threshold value will be turned on, those below the threshold will be turned off.\r\n",
        "\r\n",
        "For this root image, and a Gaussian blur with a sigma of 1.0, the computed threshold value is 0.42, and we can see the mask by displaying it in the usual manner."
      ]
    },
    {
      "cell_type": "code",
      "metadata": {
        "id": "QglAZKjFsjQh"
      },
      "source": [
        "skimage.io.imshow(mask)\r\n",
        "plt.show()"
      ],
      "execution_count": null,
      "outputs": []
    },
    {
      "cell_type": "markdown",
      "metadata": {
        "id": "fei27Sras-VB"
      },
      "source": [
        "Next, we can use it to select only the \"interesting\" parts of the image and display the results."
      ]
    },
    {
      "cell_type": "code",
      "metadata": {
        "id": "dAsh8V1Ts71h"
      },
      "source": [
        "# mask the image\r\n",
        "sel = np.zeros_like(image)\r\n",
        "sel[mask] = image[mask]\r\n",
        "\r\n",
        "# display the result\r\n",
        "skimage.io.imshow(sel)\r\n",
        "plt.show()"
      ],
      "execution_count": null,
      "outputs": []
    },
    {
      "cell_type": "markdown",
      "metadata": {
        "id": "3UGjp0FRQBa1"
      },
      "source": [
        "##Application: measuring root mass\r\n",
        "\r\n",
        "Let us now turn to an application where we can apply thresholding and other techniques we have learned to this point. Consider these four maize root system images.\r\n",
        "\r\n",
        "<img src=\"https://datacarpentry.org/image-processing/fig/07-four-maize-roots.jpg\" alt=\"maize roots collage\" style=\"float: left; margin-right:10px;\"/>\r\n",
        "\r\n",
        "Now suppose we are interested in the amount of plant material in each image, and in particular how that amount changes from image to image. Perhaps the images represent the growth of the plant over time, or perhaps the images show four different maize varieties at the same phase of their growth. In any case, the question we would like to answer is, \"how much root mass is in each image?\" We will construct Python code to measure this value for a single image, and then create loop to execute the code on each trial image in turn.\r\n",
        "\r\n",
        "Our strategy will be this:\r\n",
        "\r\n",
        "1. Read the image, converting it to grayscale as it is read. For this application we do not need the color image.\r\n",
        "2. Blur the image.\r\n",
        "3. Use Otsu's method of thresholding to create a binary image, where the pixels that were part of the maize plant are white, and everything else is black.\r\n",
        "4. Save the binary image so it can be examined later.\r\n",
        "5. Count the white pixels in the binary image, and divide by the number of pixels in the image. This ratio will be a measure of the root mass of the plant in the image.\r\n",
        "5. Output the name of the image processed and the root mass ratio.\r\n",
        "\r\n",
        "The cells below contain Python code to implement this root-mass-measuring strategy. Almost all of the code should be familiar, and in fact, it may seem simpler than the code we have worked on thus far, because we are not displaying any of the images with this program. Our code here is intended to run and produce its numeric result -- a measure of the root mass in the image -- without human intervention.\r\n",
        "\r\n",
        "The four images are available online via these links:\r\n",
        "\r\n",
        "Trial 16: <a href=\"https://i.imgur.com/0awactO.jpg\">https://i.imgur.com/0awactO.jpg</a>\r\n",
        "\r\n",
        "Trial 20: <a href=\"https://i.imgur.com/7VPYzgp.jpg\">https://i.imgur.com/7VPYzgp.jpg</a>\r\n",
        "\r\n",
        "Trial 216: <a href=\"https://i.imgur.com/vvOBNvk.jpg\">https://i.imgur.com/vvOBNvk.jpg</a>\r\n",
        "\r\n",
        "Trial 293: <a href=\"https://i.imgur.com/aW4Z39M.jpg\">https://i.imgur.com/aW4Z39M.jpg</a>\r\n",
        "\r\n",
        "The names for the images, and their links, are placed in a dictionary in the first cell.\r\n"
      ]
    },
    {
      "cell_type": "code",
      "metadata": {
        "id": "swwnTkBFnRiL"
      },
      "source": [
        "imageInfo = {'trial-016':'https://i.imgur.com/0awactO.jpg', \r\n",
        "             'trial-020':'https://i.imgur.com/7VPYzgp.jpg',\r\n",
        "             'trial-216':'https://i.imgur.com/vvOBNvk.jpg',\r\n",
        "             'trial-293':'https://i.imgur.com/aW4Z39M.jpg'}"
      ],
      "execution_count": null,
      "outputs": []
    },
    {
      "cell_type": "markdown",
      "metadata": {
        "id": "UbFzUFsCn46E"
      },
      "source": [
        "The next cell shows how to read one of the images, by fetching its URL out of the dictionary, based on the trial name. We read the image as grayscale immediately, rather than reading as color and then converting to grayscale."
      ]
    },
    {
      "cell_type": "code",
      "metadata": {
        "id": "TccZ4BaJtRPW"
      },
      "source": [
        "# read the original image, converting to grayscale\r\n",
        "imgName = 'trial-016'\r\n",
        "image = skimage.io.imread(imageInfo[imgName], as_gray=True)"
      ],
      "execution_count": null,
      "outputs": []
    },
    {
      "cell_type": "markdown",
      "metadata": {
        "id": "pMvoRCIwolXF"
      },
      "source": [
        "Next the grayscale image is blurred with a Gaussian that is defined by the sigma parameter, contained in the variable `k`."
      ]
    },
    {
      "cell_type": "code",
      "metadata": {
        "id": "BuyFIzFMmjBC"
      },
      "source": [
        "# blur before thresholding\r\n",
        "k = 1.5\r\n",
        "\r\n",
        "blur = skimage.filters.gaussian(image, sigma=k)"
      ],
      "execution_count": null,
      "outputs": []
    },
    {
      "cell_type": "markdown",
      "metadata": {
        "id": "DqYDzCgNo3X0"
      },
      "source": [
        "Following that, we create a binary image with Otsu's method for thresholding, just as we did in the previous section. Since the program is intended to produce numeric output, without a person shepherding it, it does not display any of the images."
      ]
    },
    {
      "cell_type": "code",
      "metadata": {
        "id": "DoZfOITimvyk"
      },
      "source": [
        "# perform adaptive thresholding to produce a binary image\r\n",
        "t = skimage.filters.threshold_otsu(blur)\r\n",
        "binary = blur > t"
      ],
      "execution_count": null,
      "outputs": []
    },
    {
      "cell_type": "markdown",
      "metadata": {
        "id": "uhe6uj0no8WE"
      },
      "source": [
        "We do, however, want to save the binary images, in case we wish to examine them at a later time. This cell does so by appending a `-binary.png` suffix to the name of the image, which we stored previously in the `imgName` variable. The binary image is saved via a call to the `skimage.io.imsave()` function. In order to convert from the binary range of 0 and 1 of the mask to a gray level image that can be saved as `.png`, we use the `skimage.img_as_ubyte()` utility function."
      ]
    },
    {
      "cell_type": "code",
      "metadata": {
        "id": "JjgNjxKbm27r"
      },
      "source": [
        "# save binary image\r\n",
        "binaryFileName = imgName + '-binary.png'\r\n",
        "skimage.io.imsave(binaryFileName, skimage.img_as_ubyte(binary))"
      ],
      "execution_count": null,
      "outputs": []
    },
    {
      "cell_type": "markdown",
      "metadata": {
        "id": "1Ehhy5zwqYit"
      },
      "source": [
        "Finally, we can examine the code that is the reason this program exists! This block of code determines the root mass ratio in the image."
      ]
    },
    {
      "cell_type": "code",
      "metadata": {
        "id": "BGJIH8CWpwkL"
      },
      "source": [
        "# determine root mass ratio\r\n",
        "rootPixels = np.count_nonzero(binary)\r\n",
        "w = binary.shape[1]\r\n",
        "h = binary.shape[0]\r\n",
        "density = rootPixels / (w * h)\r\n",
        "\r\n",
        "# output in format suitable for .csv\r\n",
        "print(imgName, density, sep=\",\")"
      ],
      "execution_count": null,
      "outputs": []
    },
    {
      "cell_type": "markdown",
      "metadata": {
        "id": "Z1scQ4cduwxx"
      },
      "source": [
        "Recall that we are working with a binary image at this point; every pixel in the image is either zero (black) or 1 (white). We want to count the number of white pixels, which is easily accomplished with a call to the `np.count_nonzero()` function. Then we determine the width and height of the image, via the first and second elements of the image's shape. Then the density ratio is calculated by dividing the number of white pixels by the total number of pixels in the image. Finally, the code prints out the name of the file processed and the corresponding root density."
      ]
    },
    {
      "cell_type": "markdown",
      "metadata": {
        "id": "yR50yDHzxJEZ"
      },
      "source": [
        "We have four images to process in this example, and in a real-world scientific situation, there might be dozens, hundreds, or even thousands of images to process. To save us the tedium of manually running the preceding Python code on each image, we can construct a Python loop to run the code multiple times for us. The following cell does that, assuming that the image names and file names / URLs are held in a Python dictionary. \r\n",
        "\r\n",
        "We also place the rootmass calculating code in a function, to make the loop code easer to write and read."
      ]
    },
    {
      "cell_type": "code",
      "metadata": {
        "id": "oONAqHh_qoGl"
      },
      "source": [
        "def calculateRootMass(name, url, k):\r\n",
        "  '''\r\n",
        "  Calculate and print an estimate of the rootmass in a maize root system image.\r\n",
        "\r\n",
        "  Parameters\r\n",
        "  ----------\r\n",
        "  name : string with a name for the image, e.g., 'trial-016'\r\n",
        "  url : string with local file name or URL for the file to examine\r\n",
        "  k : sigma value for blur kernel \r\n",
        "  '''\r\n",
        "  # load image\r\n",
        "  image = skimage.io.imread(url, as_gray=True)\r\n",
        "\r\n",
        "  # blur the image\r\n",
        "  blur = skimage.filters.gaussian(image, sigma=k)\r\n",
        "\r\n",
        "  # perform adaptive thresholding to produce a binary image\r\n",
        "  t = skimage.filters.threshold_otsu(blur)\r\n",
        "  binary = blur > t\r\n",
        "\r\n",
        "  # save binary image\r\n",
        "  binaryFileName = name + '-binary.png'\r\n",
        "  skimage.io.imsave(binaryFileName, skimage.img_as_ubyte(binary))\r\n",
        "\r\n",
        "  # determine root mass ratio\r\n",
        "  rootPixels = np.count_nonzero(binary)\r\n",
        "  w = binary.shape[1]\r\n",
        "  h = binary.shape[0]\r\n",
        "  density = rootPixels / (w * h)\r\n",
        "\r\n",
        "  # output in format suitable for .csv\r\n",
        "  print(name, density, sep=\",\")"
      ],
      "execution_count": null,
      "outputs": []
    },
    {
      "cell_type": "code",
      "metadata": {
        "id": "8UwMyzhjyqcH"
      },
      "source": [
        "# perform calculations on all of our images\r\n",
        "for name in imageInfo:\r\n",
        "  calculateRootMass(name, imageInfo[name], 1.5)"
      ],
      "execution_count": null,
      "outputs": []
    },
    {
      "cell_type": "markdown",
      "metadata": {
        "id": "dNYrw2n5y7nM"
      },
      "source": [
        "These values could be saved in a `.csv` file for later use, either by copying and pasting the above output into a file manually, or by modifying the `calculateRootMass()` function to write to a file instead of printing output to the screen. "
      ]
    },
    {
      "cell_type": "markdown",
      "metadata": {
        "id": "expcK_E41erj"
      },
      "source": [
        "---\r\n",
        "> **Ignoring more of the images -- brainstorming**\r\n",
        ">\r\n",
        "> Let us take a closer look at the binary images produced by the proceeding program.\r\n",
        "> <img src=\"https://datacarpentry.org/image-processing/fig/07-four-maize-roots-binary.jpg\" alt=\"binary maize roots collage\" style=\"float: left; margin-right:10px;\"/>\r\n",
        "> \r\n",
        "> Our root mass ratios include white pixels that are\r\n",
        "> not part of the plant in the image, do they not? \r\n",
        "> The numbered labels and the white circles in each \r\n",
        "> image are preserved during the thresholding, and \r\n",
        "> therefore their pixels are included in our \r\n",
        "> calculations. Those extra pixels might have a \r\n",
        "> slight impact on our root mass ratios, especially \r\n",
        "> the labels, since the labels are not the same size \r\n",
        "> in each image. How might we remove the labels and \r\n",
        "> circles before calculating the ratio, so that our \r\n",
        "> results are more accurate? Brainstorm and think \r\n",
        "> about some options, given what we have learned so \r\n",
        "> far.\r\n",
        "---"
      ]
    },
    {
      "cell_type": "markdown",
      "metadata": {
        "id": "RLQx1hPQ2Mze"
      },
      "source": [
        "---\r\n",
        "> **Ignoring more of the images -- implementation**\r\n",
        "> \r\n",
        "> Using the preceding code as a basis, perform two\r\n",
        "> thresholding steps in order to remove the label and\r\n",
        "> white circle from each image. First, use simple \r\n",
        "> inverse binary thresholding to remove the label and\r\n",
        "> circle, then proceed with Otsu's method as before. \r\n",
        "> \r\n",
        "> For your convenience, the `calculateRootMass()` \r\n",
        "> function is reproduced in the cell below, with \r\n",
        "> comments showing  where to make your modifications.\r\n",
        "---"
      ]
    },
    {
      "cell_type": "code",
      "metadata": {
        "id": "sjv2I5Ut0R-g"
      },
      "source": [
        "def calculateRootMass(name, url, k):\r\n",
        "  '''\r\n",
        "  Calculate and print an estimate of the rootmass in a maize root system image.\r\n",
        "\r\n",
        "  Parameters\r\n",
        "  ----------\r\n",
        "  name : string with a name for the image, e.g., 'trial-016'\r\n",
        "  url : string with local file name or URL for the file to examine\r\n",
        "  k : sigma value for blur kernel \r\n",
        "  '''\r\n",
        "  # load image\r\n",
        "  image = skimage.io.imread(url, as_gray=True)\r\n",
        "\r\n",
        "  # blur the image\r\n",
        "  blur = skimage.filters.gaussian(image, sigma=k)\r\n",
        "\r\n",
        "  # TODO: perform binary inverse thresholding to create a mask\r\n",
        "  # that selects the white circle and label, so we can remove\r\n",
        "  # them later\r\n",
        "\r\n",
        "  # TODO: use the mask you just created to remove the circle\r\n",
        "  # and label from the blur image\r\n",
        "\r\n",
        "  # perform adaptive thresholding to produce a binary image\r\n",
        "  t = skimage.filters.threshold_otsu(blur)\r\n",
        "  binary = blur > t\r\n",
        "\r\n",
        "  # save binary image\r\n",
        "  binaryFileName = name + '-binary.png'\r\n",
        "  skimage.io.imsave(binaryFileName, skimage.img_as_ubyte(binary))\r\n",
        "\r\n",
        "  # determine root mass ratio\r\n",
        "  rootPixels = np.count_nonzero(binary)\r\n",
        "  w = binary.shape[1]\r\n",
        "  h = binary.shape[0]\r\n",
        "  density = rootPixels / (w * h)\r\n",
        "\r\n",
        "  # output in format suitable for .csv\r\n",
        "  print(name, density, sep=\",\")"
      ],
      "execution_count": null,
      "outputs": []
    },
    {
      "cell_type": "code",
      "metadata": {
        "id": "ZA74w9JR3Xvf"
      },
      "source": [
        "# perform calculations on all of our images\r\n",
        "for name in imageInfo:\r\n",
        "  calculateRootMass(name, imageInfo[name], 1.5)"
      ],
      "execution_count": null,
      "outputs": []
    },
    {
      "cell_type": "markdown",
      "metadata": {
        "id": "2RTAvNs6Se6r"
      },
      "source": [
        "---\r\n",
        "> **Thresholding a bacteria colony image**\r\n",
        "> \r\n",
        "> Refer back to the grayscale histograms of the \r\n",
        "> three sample bacteria colony images you created in\r\n",
        "> Lesson D. Determine a plausible threshold value\r\n",
        "> for each image. Then, write code to threshold a\r\n",
        "> grayscale version of each image, leavining the \r\n",
        "> pixels in the bacterial colonies \"on,\" while \r\n",
        "> turning the rest of the pixels in the image \"off.\"\r\n",
        ">\r\n",
        "> The URLs for the colony images are:\r\n",
        ">\r\n",
        "> Colony image 1: <a href='https://i.imgur.com/uM0Rt9r.png'>https://i.imgur.com/uM0Rt9r.png</a>\r\n",
        "> \r\n",
        "> Colony image 2: <a href='https://i.imgur.com/MAWoq9A.png'>https://i.imgur.com/MAWoq9A.png</a>\r\n",
        "> \r\n",
        "> Colony image 3: <a href='https://i.imgur.com/SrG8kTQ.png'>https://i.imgur.com/SrG8kTQ.png</a>\r\n",
        "---"
      ]
    },
    {
      "cell_type": "code",
      "metadata": {
        "id": "Kk72lRfp3adF"
      },
      "source": [
        "# TODO: write thresholding code for the colony images here\r\n"
      ],
      "execution_count": null,
      "outputs": []
    }
  ]
}