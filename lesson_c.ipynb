{
  "nbformat": 4,
  "nbformat_minor": 0,
  "metadata": {
    "colab": {
      "name": "lesson_c.ipynb",
      "provenance": [],
      "collapsed_sections": []
    },
    "kernelspec": {
      "name": "python3",
      "display_name": "Python 3"
    }
  },
  "cells": [
    {
      "cell_type": "markdown",
      "metadata": {
        "id": "jPwoU04Czulx"
      },
      "source": [
        "#Drawing and Bitwise Operations\r\n",
        "\r\n",
        "The next series of lessons covers a basic toolkit of skimage operators. With these tools, we will be able to create programs to perform simple analyses of images based on changes in color or shape. \r\n",
        "\r\n",
        "We may need to create a *mask* to select only certain parts of an image. In this lesson we explore some tools for doing this."
      ]
    },
    {
      "cell_type": "markdown",
      "metadata": {
        "id": "aMyy5OZb0E4Z"
      },
      "source": [
        "##Drawing on images\r\n",
        "\r\n",
        "Often we wish to select only a portion of an image to analyze, and ignore the rest. Creating a rectangular sub-image with slicing, as we did in the previous lesson is one option for simple cases. Another option is to create another special image, of the same size as the original, with black pixels indicating the region to save and white pixels everywhere else. Such an image is called a *mask*. In preparing a mask, we sometimes need to be able to draw a black shape – a circle or a rectangle, say – on a white image. skimage provides tools to do that.\r\n",
        "\r\n",
        "Consider this image of maize seedlings:\r\n",
        "\r\n",
        "<img src=\"https://datacarpentry.org/image-processing/fig/03-maize-roots.jpg\" alt=\"maize seedlings\" style=\"float: left; margin-right:10px;\"/>\r\n",
        "\r\n",
        "Now, suppose we want to analyze only the area of the image containing the roots themselves; we do not care to look at the kernels, or anything else about the plants. Further, we wish to exclude the frame of the container holding the seedlings as well. Exploration with ImageJ could tell us that the upper-left coordinate of the sub-area we are interested in is $\\left(44, 357\\right)$, while the lower-right coordinate is $\\left(720, 740\\right)$. These coordinates are shown in $\\left(x, y\\right)$ order.\r\n",
        "\r\n",
        "A Python program to create a mask to select only that area of the image would start with a now-familiar section of code to open and display the original image. (Note that the display portion is used here for pedagogical purposes; it would probably not be used in production code.)"
      ]
    },
    {
      "cell_type": "code",
      "metadata": {
        "id": "widHNyOZzrQa"
      },
      "source": [
        "# one-time imports and setup for displaying images in Colab\r\n",
        "import skimage.io\r\n",
        "\r\n",
        "from matplotlib import pyplot as plt\r\n",
        "\r\n",
        "import matplotlib as mpl\r\n",
        "mpl.rcParams['figure.dpi'] = 150\r\n",
        "\r\n",
        "import numpy as np"
      ],
      "execution_count": null,
      "outputs": []
    },
    {
      "cell_type": "code",
      "metadata": {
        "id": "qnWfX4qO1B1f"
      },
      "source": [
        "# load and display the maize roots image\r\n",
        "image = skimage.io.imread('https://i.imgur.com/gpLmzNk.png')\r\n",
        "skimage.io.imshow(image)\r\n",
        "plt.show()"
      ],
      "execution_count": null,
      "outputs": []
    },
    {
      "cell_type": "markdown",
      "metadata": {
        "id": "Cudst-JF4SJ7"
      },
      "source": [
        "As before, we first import `skimage.io`, and prepare the environment for displaying our images with `matplotlib`. We also import the NumPy library, and give it an alias of `np`. NumPy is necessary when we create the initial mask image, and the alias saves us a little typing. Then, we load and display the initial image in the same way we have done before.\r\n",
        "\r\n",
        "NumPy allows indexing of images/arrays with \"boolean\" arrays of the same size. Indexing with a boolean array is also called mask indexing. The \"pixels\" in such a mask array can only take two values: `True` or `False`. If we view an image with pixels set to `True` or `False`, we will see the areas that are `True` as white, and the areas that are `False` as black. \r\n",
        "\r\n",
        "We can use such a mask to select certain parts of an image: the pixels that correspond to `True` pixels in the mask are selected, while the pixels that correspond to `False` in the mask are not. \r\n",
        "\r\n",
        "To generate a mask array of the same size as the image, we can use the NumPy module. The next section of code shows how."
      ]
    },
    {
      "cell_type": "code",
      "metadata": {
        "id": "GnbIIfdv3djY"
      },
      "source": [
        "# Create the basic, all True / white, mask\r\n",
        "mask = np.ones(shape=image.shape[0:2], dtype=\"bool\")"
      ],
      "execution_count": null,
      "outputs": []
    },
    {
      "cell_type": "markdown",
      "metadata": {
        "id": "orr_Ds-K6MPM"
      },
      "source": [
        "We create the mask image with the\r\n",
        "\r\n",
        "```\r\n",
        "mask = np.ones(shape=image.shape[0:2], dtype=\"bool\")\r\n",
        "```\r\n",
        "\r\n",
        "function call. The first argument to the `ones()` function is the shape of the original image, so that our mask will be exactly the same size as the original. Notice that we have only used the first two indices of our shape. We omitted the channel dimension. Indexing with such a mask will change all channel values simultaneously. \r\n",
        "\r\n",
        "The second argument, `dtype = \"bool\"`, indicates that the elements in the array should be booleans – i.e., values are either `True` or `False`. Thus, even though we use `np.ones()` to create the mask, its pixel values are in fact not `1` but `True`. You could check this, e.g., by `print(mask[0, 0])`.\r\n",
        "\r\n",
        "Next, we draw a filled, black rectangle on the mask, by setting a slice of the mask to `False` rather than `True`. "
      ]
    },
    {
      "cell_type": "code",
      "metadata": {
        "id": "HCRwLYVb5_7e"
      },
      "source": [
        "# Draw filled rectangle on the mask image\r\n",
        "import skimage.draw\r\n",
        "rr, cc = skimage.draw.rectangle(start=(357, 44), end=(740, 720))\r\n",
        "mask[rr, cc] = False"
      ],
      "execution_count": null,
      "outputs": []
    },
    {
      "cell_type": "markdown",
      "metadata": {
        "id": "E10vxi1c-U6l"
      },
      "source": [
        "Drawing in this way is a two-step process. First, the `skimage.draw.rectangle()` function is used to create the set of rows and columns (`rr` and `cc`) that will be in the rectangle. Then, we use a special NumPy indexing syntax to make all of the pixels in the selected range a certain color (in this case, `False`). \r\n",
        "\r\n",
        "Here is what our constructed mask looks like:"
      ]
    },
    {
      "cell_type": "code",
      "metadata": {
        "id": "FGDR_E_u62P5"
      },
      "source": [
        "skimage.io.imshow(mask)\r\n",
        "plt.show()"
      ],
      "execution_count": null,
      "outputs": []
    },
    {
      "cell_type": "markdown",
      "metadata": {
        "id": "vaO4hOGP-fqF"
      },
      "source": [
        "---\r\n",
        "> **Other drawing operations**\r\n",
        "> \r\n",
        "> There are other functions for drawing on images, in addition to the \r\n",
        "> `skimage.draw.rectangle()` function. We can draw circles, lines, text, and \r\n",
        "> other shapes as well. These drawing functions may be useful later on, to help \r\n",
        "> annotate images that our programs produce. Practice some of these functions \r\n",
        "> here. Modify the following code cell, which creates a black, $800 \\times 600$\r\n",
        "> pixel image. Your task is to draw some other colored shapes and lines on \r\n",
        "> the image, perhaps something like this:\r\n",
        "> \r\n",
        "> <img src=\"https://datacarpentry.org/image-processing/fig/03-draw-practice.jpg\" alt=\"drawing practice\" style=\"float: left; margin-right:10px;\"/>\r\n",
        ">\r\n",
        "> Circles can be drawn with the `skimage.draw.circle()` function, which takes \r\n",
        "> three parameters: the $x$ and $y$ coordinate of the center of the circle, and \r\n",
        "> the radius of the filled circle. There is an optional shape parameter that \r\n",
        "> can be supplied to this function. It will limit the output coordinates for \r\n",
        "> cases where the circle dimensions exceed the ones of the image.\r\n",
        "> \r\n",
        "> Lines can be drawn with the `skimage.draw.line()` function, which takes four \r\n",
        "> parameters: the $x$ and $y$ coordinate of one end of the segment, and the $x$ \r\n",
        "> and $y$ coordinate of the other end of the segment.\r\n",
        "> \r\n",
        "> Other drawing functions supported by skimage can be found in the <a href=\"https://scikit-image.org/docs/dev/api/skimage.draw.html?highlight=draw#module-skimage.draw\">skimage reference pages</a>.\r\n",
        "---"
      ]
    },
    {
      "cell_type": "code",
      "metadata": {
        "id": "xj7ipRXP7KNO"
      },
      "source": [
        "# TODO: write your drawing code here\r\n"
      ],
      "execution_count": null,
      "outputs": []
    },
    {
      "cell_type": "markdown",
      "metadata": {
        "id": "-SfCJ0tiBKQx"
      },
      "source": [
        "##Image modification\r\n",
        "\r\n",
        "All that remains is the task of modifying the image using our mask in such a way that the areas with `True` / white pixels in the mask are not shown in the image any more.\r\n",
        "\r\n",
        "We can use our mask to select all the pixels we are not interested in -- the ones that correspond to `True` in the mask. Then, we can set these pixels to zero, effectively turning them off, while leaving the pixels we are interested in unchanged. \r\n",
        "\r\n",
        "This code cell demonstrates the whole process of selecting only the seedling roots. "
      ]
    },
    {
      "cell_type": "code",
      "metadata": {
        "id": "qQlqIWezBEC2"
      },
      "source": [
        "# load original image\r\n",
        "image = skimage.io.imread('https://i.imgur.com/gpLmzNk.png')\r\n",
        "\r\n",
        "# create the mask\r\n",
        "rr, cc = skimage.draw.rectangle(start=(357, 44), end=(740, 720))\r\n",
        "mask[rr, cc] = False\r\n",
        "\r\n",
        "# apply the mask\r\n",
        "image[mask] = 0\r\n",
        "\r\n",
        "# display the result\r\n",
        "skimage.io.imshow(image)\r\n",
        "plt.show()"
      ],
      "execution_count": null,
      "outputs": []
    },
    {
      "cell_type": "markdown",
      "metadata": {
        "id": "M0o8eFduCMJR"
      },
      "source": [
        "---\r\n",
        "> **Masking an image of your own**\r\n",
        "> \r\n",
        "> Now, it is your turn to pracice. Upload an image of an object with a simple \r\n",
        "> overall geometric shape (think rectangular or circular). Write code like the \r\n",
        "> sample above to select only the primary object in your image. For example, \r\n",
        "> here is an image of a remote control:\r\n",
        "> \r\n",
        "> <img src=\"https://datacarpentry.org/image-processing/fig/03-remote-control.jpg\" alt=\"remote control before\" style=\"float: left; margin-right:10px;\"/>\r\n",
        "> \r\n",
        "> And, here is the end result of code that masks out (almost) everything\r\n",
        "> but the remote:\r\n",
        ">\r\n",
        "> <img src=\"https://datacarpentry.org/image-processing/fig/03-remote-control-masked.jpg\" alt=\"remote control masked\" style=\"float: left; margin-right:10px;\"/>\r\n",
        "---"
      ]
    },
    {
      "cell_type": "code",
      "metadata": {
        "id": "qAb_AwiZCFgD"
      },
      "source": [
        "# TODO: write your masking code here\r\n"
      ],
      "execution_count": null,
      "outputs": []
    },
    {
      "cell_type": "markdown",
      "metadata": {
        "id": "oAD7nlZeEh66"
      },
      "source": [
        "---\r\n",
        "> **Masking a 96-well plate image**\r\n",
        "> \r\n",
        "> Consider this image of a 96-well plate that was scanned on a flatbed scanner.\r\n",
        ">\r\n",
        "> <img src=\"https://datacarpentry.org/image-processing/fig/03-wellplate.jpg\" alt=\"96-well plate\" style=\"float: left; margin-right:10px;\"/>\r\n",
        ">\r\n",
        "> Suppose that we are interested in the colors of the solutions in each of the \r\n",
        "> wells. We do not care about the color of the rest of the image, i.e., the \r\n",
        "> plastic that makes up the well plate itself. The URL for this image is \r\n",
        "> https://i.imgur.com/QtYg6Zi.png.\r\n",
        "> \r\n",
        "> Execute the code cell below. This will load a file named `centers.txt`\r\n",
        "> from the cloud. This file contains the $\\left(x, y\\right)$ coordinates\r\n",
        "> of the center of each of the 96 wells on the plate, with one pair per \r\n",
        "> line. You may assume that each of the wells in the image has a radius\r\n",
        "> of 16 pixels. In the second code cell below, write Python to read in the\r\n",
        "> well plate image, and the `centers.txt` file, and then mask out everything\r\n",
        "> we are not interested in studying from the image. Your program sould \r\n",
        "> produce output that looks like this:\r\n",
        ">\r\n",
        "> <img src=\"https://datacarpentry.org/image-processing/fig/03-wellplate-masked.jpg\" alt=\"masked well plate\" style=\"float: left; margin-right:10px;\"/>\r\n",
        "---"
      ]
    },
    {
      "cell_type": "code",
      "metadata": {
        "id": "W2nNzFMwDZP7"
      },
      "source": [
        "# execute this cell to download centers.txt\r\n",
        "!curl 'https://raw.githubusercontent.com/mmeysenburg/ist371/main/centers.txt' > centers.txt"
      ],
      "execution_count": null,
      "outputs": []
    },
    {
      "cell_type": "code",
      "metadata": {
        "id": "Xdbilrt2Ga2J"
      },
      "source": [
        "# TODO write your masking code here\r\n"
      ],
      "execution_count": null,
      "outputs": []
    },
    {
      "cell_type": "markdown",
      "metadata": {
        "id": "1TW07A1zHnpc"
      },
      "source": [
        "---\r\n",
        "> **Masking a 96-well plate image, take two**\r\n",
        "> \r\n",
        "> If you spent some time looking at the contents of the `centers.txt` file \r\n",
        "> from the previous challenge, you may have noticed that the centers of \r\n",
        "> each well in the image are very regular. Assuming that the images are \r\n",
        "> scanned in such a way that the wells are always in the same place, and \r\n",
        "> that the image is perfectly oriented (i.e., it does not slant one way or \r\n",
        "> another), we could produce our well plate mask without having to read in \r\n",
        "> the coordinates of the centers of each well. Assume that the center of \r\n",
        "> the upper left well in the image is at location $x = 91$ and $y = 108$, \r\n",
        "> and that there are 70 pixels between each center in the $x$ dimension and \r\n",
        "> 72 pixels between each center in the $y$ dimension. Each well still has a \r\n",
        "> radius of 16 pixels. In the code cell below, write Python code that \r\n",
        "> produces the same output image as in the previous challenge, but without \r\n",
        "> having to read in the `centers.txt` file. *Hint: use nested for loops.*\r\n",
        "---"
      ]
    },
    {
      "cell_type": "code",
      "metadata": {
        "id": "Bg-tgNYcHkY7"
      },
      "source": [
        "# TODO: write masking code here\r\n"
      ],
      "execution_count": null,
      "outputs": []
    },
    {
      "cell_type": "code",
      "metadata": {
        "id": "tGS4uH9rIWEh"
      },
      "source": [
        ""
      ],
      "execution_count": null,
      "outputs": []
    }
  ]
}