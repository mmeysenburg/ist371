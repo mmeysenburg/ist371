{
  "nbformat": 4,
  "nbformat_minor": 0,
  "metadata": {
    "colab": {
      "name": "lesson_i.ipynb",
      "provenance": [],
      "collapsed_sections": []
    },
    "kernelspec": {
      "name": "python3",
      "display_name": "Python 3"
    },
    "language_info": {
      "name": "python"
    }
  },
  "cells": [
    {
      "cell_type": "markdown",
      "metadata": {
        "id": "dv3CQzX0tM2n"
      },
      "source": [
        "#Challenges\n",
        "\n",
        "In this episode, we will provide two different challenges for you to attempt, based on the skills you have acquired so far. One of the challenges will be related to the shape of objects in images (*morphometrics*), while the other will be related to colors of objects in images (*colorimetrics*). We will not provide solution code for either of the challenges, but your instructors should be able to give you some gentle hints if you need them."
      ]
    },
    {
      "cell_type": "markdown",
      "metadata": {
        "id": "S0J-Qo7xtYIG"
      },
      "source": [
        "##Morphometrics: Bacteria Colony Counting\n",
        "\n",
        "Your morphometric challenge is to determine how many bacteria colonies are in each of these images.\n",
        "\n",
        "<img src=\"https://datacarpentry.org/image-processing/fig/00-colonies01.jpg\" alt=\"colony 1\" style=\"float: left; margin-right:10px;\"/>\n",
        "\n",
        "<img src=\"https://datacarpentry.org/image-processing/fig/00-colonies02.jpg\" alt=\"colony 2\" style=\"float: left; margin-right:10px;\"/>\n",
        "\n",
        "<img src=\"https://datacarpentry.org/image-processing/fig/00-colonies03.jpg\" alt=\"colony 3\" style=\"float: left; margin-right:10px;\"/>\n",
        "\n",
        " The URLs for the colony images are:\n",
        "\n",
        "Colony image 1: <a href='https://i.imgur.com/uM0Rt9r.png'>https://i.imgur.com/uM0Rt9r.png</a>\n",
        " \n",
        "Colony image 2: <a href='https://i.imgur.com/MAWoq9A.png'>https://i.imgur.com/MAWoq9A.png</a>\n",
        " \n",
        "Colony image 3: <a href='https://i.imgur.com/SrG8kTQ.png'>https://i.imgur.com/SrG8kTQ.png</a>\n",
        "\n",
        "Write Python code that uses `skimage` to count the number of bacteria colonies in each image, and for each, produce a new image that highlights the colonies. Your images should look similar than this one:\n",
        "\n",
        "<img src=\"https://i.imgur.com/L5BEdYW.png\" alt=\"detected colonies\" style=\"float: left; margin-right:10px;\"/>\n",
        "\n",
        "Additionally, print out the number of colonies found in each image.\n"
      ]
    },
    {
      "cell_type": "code",
      "metadata": {
        "id": "ho3SwcGtx4o5"
      },
      "source": [
        "# one-time imports and configuration\n",
        "import numpy as np\n",
        "import skimage.color\n",
        "import skimage.filters\n",
        "import skimage.io\n",
        "\n",
        "import matplotlib as mpl\n",
        "mpl.rcParams['figure.dpi'] = 150\n",
        "\n",
        "from matplotlib import pyplot as plt\n",
        "\n",
        "# import for CCA\n",
        "import skimage.measure"
      ],
      "execution_count": null,
      "outputs": []
    },
    {
      "cell_type": "code",
      "metadata": {
        "id": "jXW8xZ8KtVR5"
      },
      "source": [
        "# TODO: write your morphometric challenge code in this cell\n"
      ],
      "execution_count": null,
      "outputs": []
    },
    {
      "cell_type": "markdown",
      "metadata": {
        "id": "oIy_nDnLuczP"
      },
      "source": [
        "##Colorimetrics: titration color analysis\n",
        "\n",
        "You may recall this titration video from the course introduction:\n",
        "\n",
        "<a href=\"https://www.youtube.com/watch?t=554&v=NLSY5S8CABk&feature=youtu.be\"><img src=\"https://eldoyle.github.io/PythonIntro/fig/00-titration.jpg\" alt=\"Titration video\" style=\"float: left; margin-right: 10px;\"></a>\n",
        "\n",
        "Write Python code that uses `skimage` to analyze the video on a frame-by-frame basis. Your program should do the following:\n",
        "\n",
        "1. Sample a kernel from the same location on each frame, and determine the average red, green, and blue channel value.\n",
        "\n",
        "2. Display a graph plotting the average color channel values as a function of the frame number, similar to this image:\n",
        "\n",
        "<img src=\"https://datacarpentry.org/image-processing/fig/00-colorimetric.png\" alt=\"titration channels\" style=\"float: left; margin-right:10px;\"/>\n",
        "\n",
        "3. Save the graph as an image named titration.png.\n",
        "\n",
        "4. Output a CSV file named titration.csv, with each line containing the frame number, average red value, average green value, and average blue value\n",
        "\n",
        "---\n",
        "> **Reading frames of a video**\n",
        ">\n",
        "> The video should be downloaded to your Colab \n",
        "> machine's local storage before processing. The\n",
        "> first cell below does that.\n",
        "> \n",
        "> To process the titrataion video as a series of \n",
        "> individual frame images, first open the file\n",
        "> using the `imagio` module's `get_reader()` \n",
        "> function, like this:\n",
        "> \n",
        "> ```\n",
        "> import imageio\n",
        ">\n",
        "> vid = imageio.get_reader('titration.wmv', 'ffmpeg')\n",
        "> ```\n",
        ">\n",
        "> Then, you can use a for loop to iterate through the\n",
        "> frames of the video, like this:\n",
        "> \n",
        "> ```\n",
        "> for image in vid:\n",
        "> ```\n",
        ">\n",
        "> Inside the loop, `image` can be processed just as\n",
        "> we have done for images all along in the course.\n",
        "---\n"
      ]
    },
    {
      "cell_type": "code",
      "metadata": {
        "id": "lkiFyTADbUnq"
      },
      "source": [
        "# Execute this cell once to download the titration video\n",
        "# to your Colab local storage\n",
        "!wget \"http://programminginprocessing.com/titration.wmv\" "
      ],
      "execution_count": null,
      "outputs": []
    },
    {
      "cell_type": "code",
      "metadata": {
        "id": "GffzDJiK0riu"
      },
      "source": [
        "# TODO: write your colorimetric code here\n",
        "import imageio\n"
      ],
      "execution_count": null,
      "outputs": []
    },
    {
      "cell_type": "code",
      "metadata": {
        "id": "N1RyAhOW1g5Z"
      },
      "source": [
        ""
      ],
      "execution_count": null,
      "outputs": []
    }
  ]
}